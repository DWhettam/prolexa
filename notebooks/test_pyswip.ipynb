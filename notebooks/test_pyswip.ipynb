{
 "cells": [
  {
   "cell_type": "markdown",
   "metadata": {},
   "source": [
    "# Learning pyswip"
   ]
  },
  {
   "cell_type": "code",
   "execution_count": 33,
   "metadata": {},
   "outputs": [],
   "source": [
    "import sys; sys.version\n",
    "from pyswip import Prolog\n",
    "\n",
    "sys.path.append(\"../python\")\n",
    "from POS_tagger import Tagger\n",
    "\n",
    "pl = Prolog()\n",
    "\n",
    "PROLEXA_PATH = \"../prolog/\""
   ]
  },
  {
   "cell_type": "markdown",
   "metadata": {},
   "source": [
    "## Imports (consults)"
   ]
  },
  {
   "cell_type": "code",
   "execution_count": 2,
   "metadata": {},
   "outputs": [],
   "source": [
    "pl.consult(PROLEXA_PATH + \"prolexa.pl\")"
   ]
  },
  {
   "cell_type": "code",
   "execution_count": 32,
   "metadata": {},
   "outputs": [
    {
     "data": {
      "text/plain": [
       "[{'Output': 'I already knew that Peter is mortal'},\n",
       " {'Output': 'I heard you say,  Peter is mortal , could you rephrase that please?'}]"
      ]
     },
     "execution_count": 32,
     "metadata": {},
     "output_type": "execute_result"
    }
   ],
   "source": [
    "from pyswip import Variable\n",
    "\n",
    "def handle_utterance_str(text) :\n",
    "    if text[0] != \"'\" and text[0] != '\"' :\n",
    "        text = f'\"{text}\"'\n",
    "    \n",
    "    text = text.replace('\"', '\\\"')\n",
    "    text = text.replace(\"'\", '\\\"')\n",
    "    \n",
    "    return \"handle_utterance(1,{},Output)\".format(text)\n",
    "\n",
    "\n",
    "def escape_and_call_prolexa(text) :\n",
    "    libPrefix = \"prolexa:\"\n",
    "    \n",
    "    return pl.query(libPrefix + handle_utterance_str(text))\n",
    "\n",
    "\n",
    "out = escape_and_call_prolexa('Peter is mortal')\n",
    "list(out)"
   ]
  },
  {
   "cell_type": "code",
   "execution_count": null,
   "metadata": {},
   "outputs": [],
   "source": []
  },
  {
   "cell_type": "code",
   "execution_count": null,
   "metadata": {},
   "outputs": [],
   "source": [
    "from pyswip import Prolog, Functor, Variable, Query, call\n",
    "\n",
    "pl = Prolog()\n",
    "pl.consult(\"../prolog/prolexa.pl\")"
   ]
  },
  {
   "cell_type": "code",
   "execution_count": null,
   "metadata": {},
   "outputs": [],
   "source": [
    "handle_utterance = Functor(\"handle_utterance\", 3)\n",
    "Output = Variable()\n",
    "q = Query(handle_utterance(1, \"Peter is mortal.\", Output), )\n",
    "\n",
    "while q.nextSolution() :\n",
    "    print(Output.value)"
   ]
  },
  {
   "cell_type": "code",
   "execution_count": null,
   "metadata": {},
   "outputs": [],
   "source": [
    "q.nextSolution()"
   ]
  },
  {
   "cell_type": "code",
   "execution_count": null,
   "metadata": {},
   "outputs": [],
   "source": [
    "q.nextSolution()"
   ]
  },
  {
   "cell_type": "code",
   "execution_count": null,
   "metadata": {},
   "outputs": [],
   "source": []
  },
  {
   "cell_type": "code",
   "execution_count": null,
   "metadata": {},
   "outputs": [],
   "source": []
  },
  {
   "cell_type": "code",
   "execution_count": null,
   "metadata": {},
   "outputs": [],
   "source": [
    "pl.consult(\"trains.pl\")\n",
    "STATIONS = [ans[\"S\"] for ans in pl.query(\"station(S)\")]\n",
    "STATIONS"
   ]
  },
  {
   "cell_type": "code",
   "execution_count": null,
   "metadata": {},
   "outputs": [],
   "source": []
  },
  {
   "cell_type": "code",
   "execution_count": null,
   "metadata": {},
   "outputs": [],
   "source": [
    "pl.assertz(\"father(michael,john)\")\n",
    "pl.assertz(\"father(michael,gina)\")\n",
    "pl = Prolog()\n",
    "\n",
    "for soln in pl.query(\"father(X,Y)\"):\n",
    "    print(soln[\"X\"], \"is the father of\", soln[\"Y\"])\n",
    "\n",
    "# michael is the father of john\n",
    "# michael is the father of gina\n",
    "\n",
    "childrenOfMichael = pl.query(\"father(michael,X)\")\n",
    "list(childrenOfMichael)"
   ]
  },
  {
   "cell_type": "code",
   "execution_count": null,
   "metadata": {},
   "outputs": [],
   "source": []
  },
  {
   "cell_type": "code",
   "execution_count": null,
   "metadata": {},
   "outputs": [],
   "source": []
  }
 ],
 "metadata": {
  "kernelspec": {
   "display_name": "pyswip_env",
   "language": "python",
   "name": "pyswip_env"
  },
  "language_info": {
   "codemirror_mode": {
    "name": "ipython",
    "version": 3
   },
   "file_extension": ".py",
   "mimetype": "text/x-python",
   "name": "python",
   "nbconvert_exporter": "python",
   "pygments_lexer": "ipython3",
   "version": "3.6.9"
  }
 },
 "nbformat": 4,
 "nbformat_minor": 2
}
