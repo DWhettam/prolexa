{
 "cells": [
  {
   "cell_type": "markdown",
   "metadata": {},
   "source": [
    "# Learning pyswip"
   ]
  },
  {
   "cell_type": "code",
   "execution_count": 9,
   "metadata": {},
   "outputs": [
    {
     "name": "stderr",
     "output_type": "stream",
     "text": [
      "[nltk_data] Downloading package wordnet to /home/gleech/nltk_data...\n",
      "[nltk_data]   Package wordnet is already up-to-date!\n"
     ]
    }
   ],
   "source": [
    "import sys; sys.version\n",
    "from pyswip import Prolog\n",
    "import imp\n",
    "\n",
    "sys.path.append(\"../python\")\n",
    "from POS_tagger import Tagger\n",
    "import meta_grammar as meta\n",
    "imp.reload(meta)\n",
    "\n",
    "#pl = Prolog()\n",
    "#pl.consult(PROLEXA_PATH + \"prolexa.pl\")\n",
    "\n",
    "PROLEXA_PATH = \"../prolog/\""
   ]
  },
  {
   "cell_type": "code",
   "execution_count": 10,
   "metadata": {},
   "outputs": [
    {
     "name": "stdout",
     "output_type": "stream",
     "text": [
      "2020-05-26 13:15:55,857 loading file /home/gleech/.flair/models/en-pos-ontonotes-v0.5.pt\n",
      "['DT', 'NN', 'VB', 'JJ']\n",
      "[{'Output': 'I already knew that a lion is beautiful'}, {'Output': 'I heard you say,  a lion is beautiful , could you rephrase that please?'}]\n",
      "2020-05-26 13:15:56,470 loading file /home/gleech/.flair/models/en-pos-ontonotes-v0.5.pt\n",
      "['NN', 'VB', 'JJ']\n",
      "[{'Output': 'I heard you say,  lions are beautiful , could you rephrase that please?'}]\n"
     ]
    }
   ],
   "source": [
    "pl = Prolog()\n",
    "\n",
    "meta.reset_grammar()\n",
    "\n",
    "print( meta.escape_and_call_prolexa(pl, 'a lion is beautiful') )\n",
    "#print( meta.escape_and_call_prolexa(pl, 'all lions are beautiful') )\n",
    "print( meta.escape_and_call_prolexa(pl, 'lions are beautiful') )"
   ]
  },
  {
   "cell_type": "code",
   "execution_count": null,
   "metadata": {},
   "outputs": [],
   "source": [
    "# on launch\n",
    "reset_grammar()\n",
    "\n",
    "text = input()\n",
    "standardised_query(pl, text)\n",
    "\n",
    "#on quit\n",
    "reset_grammar()"
   ]
  },
  {
   "cell_type": "code",
   "execution_count": null,
   "metadata": {},
   "outputs": [],
   "source": [
    "pl = Prolog()\n",
    "pl.consult(PROLEXA_PATH + \"prolexa.pl\")"
   ]
  },
  {
   "cell_type": "code",
   "execution_count": null,
   "metadata": {},
   "outputs": [],
   "source": [
    "wnl = WordNetLemmatizer()\n",
    "for word in \"doesn't think about girls\".split(\" \") :\n",
    "    print( wnl.lemmatize(word) )\n",
    "    \n",
    "_, _, tags = tagger.tag(\"doesn't think lions are mortals\")\n",
    "standardise_tags(tags)\n",
    "\n",
    "contractions.fix(\"doesn't think about girls\")"
   ]
  },
  {
   "cell_type": "code",
   "execution_count": null,
   "metadata": {},
   "outputs": [],
   "source": []
  },
  {
   "cell_type": "code",
   "execution_count": null,
   "metadata": {},
   "outputs": [],
   "source": []
  },
  {
   "cell_type": "code",
   "execution_count": null,
   "metadata": {},
   "outputs": [],
   "source": []
  },
  {
   "cell_type": "code",
   "execution_count": null,
   "metadata": {},
   "outputs": [],
   "source": [
    "pl.consult(\"trains.pl\")\n",
    "STATIONS = [ans[\"S\"] for ans in pl.query(\"station(S)\")]\n",
    "STATIONS"
   ]
  },
  {
   "cell_type": "code",
   "execution_count": null,
   "metadata": {},
   "outputs": [],
   "source": []
  },
  {
   "cell_type": "code",
   "execution_count": null,
   "metadata": {},
   "outputs": [],
   "source": [
    "pl.assertz(\"father(michael,john)\")\n",
    "pl.assertz(\"father(michael,gina)\")\n",
    "pl = Prolog()\n",
    "\n",
    "for soln in pl.query(\"father(X,Y)\"):\n",
    "    print(soln[\"X\"], \"is the father of\", soln[\"Y\"])\n",
    "\n",
    "# michael is the father of john\n",
    "# michael is the father of gina\n",
    "\n",
    "childrenOfMichael = pl.query(\"father(michael,X)\")\n",
    "list(childrenOfMichael)"
   ]
  },
  {
   "cell_type": "code",
   "execution_count": null,
   "metadata": {},
   "outputs": [],
   "source": []
  },
  {
   "cell_type": "code",
   "execution_count": null,
   "metadata": {},
   "outputs": [],
   "source": []
  }
 ],
 "metadata": {
  "kernelspec": {
   "display_name": "pyswip_env",
   "language": "python",
   "name": "pyswip_env"
  },
  "language_info": {
   "codemirror_mode": {
    "name": "ipython",
    "version": 3
   },
   "file_extension": ".py",
   "mimetype": "text/x-python",
   "name": "python",
   "nbconvert_exporter": "python",
   "pygments_lexer": "ipython3",
   "version": "3.6.9"
  }
 },
 "nbformat": 4,
 "nbformat_minor": 2
}
