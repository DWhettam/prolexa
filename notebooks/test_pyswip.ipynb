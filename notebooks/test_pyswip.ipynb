{
 "cells": [
  {
   "cell_type": "markdown",
   "metadata": {},
   "source": [
    "# Learning pyswip"
   ]
  },
  {
   "cell_type": "code",
   "execution_count": 1,
   "metadata": {},
   "outputs": [],
   "source": [
    "import sys; sys.version\n",
    "from pyswip import Prolog\n",
    "import re\n",
    "\n",
    "sys.path.append(\"../python\")\n",
    "from POS_tagger import Tagger\n",
    "\n",
    "pl = Prolog()\n",
    "\n",
    "PROLEXA_PATH = \"../prolog/\""
   ]
  },
  {
   "cell_type": "markdown",
   "metadata": {},
   "source": [
    "## Imports (consults)"
   ]
  },
  {
   "cell_type": "code",
   "execution_count": 2,
   "metadata": {},
   "outputs": [],
   "source": [
    "pl.consult(PROLEXA_PATH + \"prolexa.pl\")"
   ]
  },
  {
   "cell_type": "code",
   "execution_count": 38,
   "metadata": {
    "scrolled": true
   },
   "outputs": [
    {
     "name": "stdout",
     "output_type": "stream",
     "text": [
      "2020-05-25 10:22:15,595 loading file C:\\Users\\dwhet\\.flair\\models\\en-pos-ontonotes-v0.4.pt\n",
      "['DET', 'NOUN', 'VERB', 'ADV', 'ADJ']\n"
     ]
    },
    {
     "data": {
      "text/plain": [
       "[{'Output': 'I heard you say,  the human is not mortal , could you rephrase that please?'}]"
      ]
     },
     "execution_count": 38,
     "metadata": {},
     "output_type": "execute_result"
    }
   ],
   "source": [
    "from pyswip import Variable\n",
    "\n",
    "def handle_utterance_str(text) :\n",
    "    if text[0] != \"'\" and text[0] != '\"' :\n",
    "        text = f'\"{text}\"'\n",
    "    \n",
    "    text = text.replace('\"', '\\\"')\n",
    "    text = text.replace(\"'\", '\\\"')\n",
    "    \n",
    "    return \"handle_utterance(1,{},Output)\".format(text)\n",
    "\n",
    "def tag(text) :\n",
    "    tagged_sent, sent, tags = Tagger().tag(text)\n",
    "    print(tags)\n",
    "    return tags\n",
    "\n",
    "def update_rules(text):\n",
    "    tags = tag(text)\n",
    "    text = text.split(' ')\n",
    "    start = '--> ['\n",
    "    end = ']'\n",
    "    f = open(PROLEXA_PATH + \"prolexa_grammar.pl\", \"r\")\n",
    "    lines=f.readlines()\n",
    "    f.close()\n",
    "    myiter = iter(lines)\n",
    "    for idx, line in enumerate(myiter):\n",
    "        word = text[0]\n",
    "        if 'DET' in tags and re.match(r\"determiner\\([a-z],X=>B,X=>H,\\[\\(H:-B\\)\\]\\)(.*)\", line):\n",
    "            exists = False\n",
    "            input_word = text[tags.index('DET')]\n",
    "            for det_idx, det_line in enumerate(lines[idx:]):                                                \n",
    "                if not(re.match(r\"determiner\\([a-z],X=>B,X=>H,\\[\\(H:-B\\)\\]\\)(.*)\", det_line)):\n",
    "                    det_idx = det_idx + idx                \n",
    "                    break\n",
    "                line_word = (det_line.split(start))[1].split(end)[0]  \n",
    "                if input_word == line_word:                    \n",
    "                    exists = True\n",
    "                    break \n",
    "\n",
    "            if not exists:\n",
    "                new_line = \"determiner(s,X=>B,X=>H,[(H:-B)]) --> [{}].\\n\".format(input_word) \n",
    "                lines.insert(det_idx, new_line)\n",
    "                next(myiter, None)\n",
    "                if text:\n",
    "                    text.pop(0)\n",
    "                if tags:\n",
    "                    tags.pop(0)\n",
    "                    \n",
    "#         if 'NOUN' in tags and re.match(r\"pred\\((.*)[1],\\[(.*)\\]\\)\\.)\", line):\n",
    "#             exists = False\n",
    "#             input_word = text[tags.index('DET')]\n",
    "#             for noun_idx, noun_line in enumerate(lines[idx:]):                                                \n",
    "#                 if not(re.match(r\"pred\\((.*)[1],\\[(.*)\\]\\)\\.)\", det_line)):\n",
    "#                     noun_idx = noun_idx + idx                \n",
    "#                     break\n",
    "#                 line_word = (noun_line.split(start))[1].split(end)[0]  \n",
    "#                 if input_word == line_word:                    \n",
    "#                     exists = True\n",
    "#                     break \n",
    "\n",
    "#             if not exists:\n",
    "#                 new_line = \"determiner(s,X=>B,X=>H,[(H:-B)]) --> [{}].\\n\".format(input_word) \n",
    "#                 lines.insert(noun_idx_idx, new_line)\n",
    "#                 next(myiter, None)\n",
    "#                 if text:\n",
    "#                     text.pop(0)\n",
    "#                 if tags:\n",
    "#                     tags.pop(0)\n",
    "\n",
    "\n",
    "    f = open(PROLEXA_PATH + \"prolexa_grammar.pl\", \"w\")\n",
    "    lines = \"\".join(lines)\n",
    "    f.write(lines)\n",
    "    f.close()\n",
    "            \n",
    "\n",
    "def escape_and_call_prolexa(text) :\n",
    "    libPrefix = \"prolexa:\"\n",
    "    update_rules(text)\n",
    "    return pl.query(libPrefix + handle_utterance_str(text))\n",
    "\n",
    "\n",
    "out = escape_and_call_prolexa('the human is not mortal')\n",
    "list(out)"
   ]
  },
  {
   "cell_type": "code",
   "execution_count": null,
   "metadata": {},
   "outputs": [],
   "source": [
    "\n",
    "#Tagger().tag(\"I have no idea what I'm doing\")\n",
    "#Tagger().tag(\"Penguins re mrotal\")\n",
    "Tagger().tag(\"every human is mortal\")"
   ]
  },
  {
   "cell_type": "code",
   "execution_count": null,
   "metadata": {},
   "outputs": [],
   "source": []
  },
  {
   "cell_type": "code",
   "execution_count": null,
   "metadata": {},
   "outputs": [],
   "source": [
    "from pyswip import Prolog, Functor, Variable, Query, call\n",
    "\n",
    "pl = Prolog()\n",
    "pl.consult(\"../prolog/prolexa.pl\")"
   ]
  },
  {
   "cell_type": "code",
   "execution_count": null,
   "metadata": {},
   "outputs": [],
   "source": [
    "handle_utterance = Functor(\"handle_utterance\", 3)\n",
    "Output = Variable()\n",
    "q = Query(handle_utterance(1, \"Peter is mortal.\", Output), )\n",
    "\n",
    "while q.nextSolution() :\n",
    "    print(Output.value)"
   ]
  },
  {
   "cell_type": "code",
   "execution_count": null,
   "metadata": {},
   "outputs": [],
   "source": [
    "q.nextSolution()"
   ]
  },
  {
   "cell_type": "code",
   "execution_count": null,
   "metadata": {},
   "outputs": [],
   "source": [
    "q.nextSolution()"
   ]
  },
  {
   "cell_type": "code",
   "execution_count": null,
   "metadata": {},
   "outputs": [],
   "source": []
  },
  {
   "cell_type": "code",
   "execution_count": null,
   "metadata": {},
   "outputs": [],
   "source": []
  },
  {
   "cell_type": "code",
   "execution_count": null,
   "metadata": {},
   "outputs": [],
   "source": [
    "pl.consult(\"trains.pl\")\n",
    "STATIONS = [ans[\"S\"] for ans in pl.query(\"station(S)\")]\n",
    "STATIONS"
   ]
  },
  {
   "cell_type": "code",
   "execution_count": null,
   "metadata": {},
   "outputs": [],
   "source": []
  },
  {
   "cell_type": "code",
   "execution_count": null,
   "metadata": {},
   "outputs": [],
   "source": [
    "pl.assertz(\"father(michael,john)\")\n",
    "pl.assertz(\"father(michael,gina)\")\n",
    "pl = Prolog()\n",
    "\n",
    "for soln in pl.query(\"father(X,Y)\"):\n",
    "    print(soln[\"X\"], \"is the father of\", soln[\"Y\"])\n",
    "\n",
    "# michael is the father of john\n",
    "# michael is the father of gina\n",
    "\n",
    "childrenOfMichael = pl.query(\"father(michael,X)\")\n",
    "list(childrenOfMichael)"
   ]
  },
  {
   "cell_type": "code",
   "execution_count": null,
   "metadata": {},
   "outputs": [],
   "source": []
  },
  {
   "cell_type": "code",
   "execution_count": null,
   "metadata": {},
   "outputs": [],
   "source": []
  }
 ],
 "metadata": {
  "kernelspec": {
   "display_name": "Python 3",
   "language": "python",
   "name": "python3"
  },
  "language_info": {
   "codemirror_mode": {
    "name": "ipython",
    "version": 3
   },
   "file_extension": ".py",
   "mimetype": "text/x-python",
   "name": "python",
   "nbconvert_exporter": "python",
   "pygments_lexer": "ipython3",
   "version": "3.8.3"
  }
 },
 "nbformat": 4,
 "nbformat_minor": 2
}
