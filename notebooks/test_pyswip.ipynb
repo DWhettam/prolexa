{
 "cells": [
  {
   "cell_type": "markdown",
   "metadata": {},
   "source": [
    "# Learning pyswip"
   ]
  },
  {
   "cell_type": "code",
   "execution_count": 25,
   "metadata": {},
   "outputs": [
    {
     "name": "stdout",
     "output_type": "stream",
     "text": [
      "2020-05-26 17:25:50,122 loading file /home/gleech/.flair/models/en-pos-ontonotes-v0.5.pt\n"
     ]
    },
    {
     "name": "stderr",
     "output_type": "stream",
     "text": [
      "[nltk_data] Downloading package wordnet to /home/gleech/nltk_data...\n",
      "[nltk_data]   Package wordnet is already up-to-date!\n"
     ]
    }
   ],
   "source": [
    "import sys; sys.version\n",
    "from pyswip import Prolog\n",
    "import imp\n",
    "import warnings\n",
    "warnings.filterwarnings(\"ignore\")\n",
    "\n",
    "sys.path.append(\"../python\")\n",
    "import meta_grammar as meta\n",
    "imp.reload(meta)\n",
    "\n",
    "#pl = Prolog()\n",
    "#pl.consult(PROLEXA_PATH + \"prolexa.pl\")\n",
    "\n",
    "PROLEXA_PATH = \"../prolog/\"\n",
    "\n",
    "meta.reset_grammar()"
   ]
  },
  {
   "cell_type": "code",
   "execution_count": 27,
   "metadata": {},
   "outputs": [
    {
     "data": {
      "text/plain": [
       "['I heard you say,  Are all humans mortal , could you rephrase that please?',\n",
       " b'peter is mortal',\n",
       " 'I already knew that Peter is mortal',\n",
       " 'I already knew that All humans are mortal',\n",
       " 'I will remember that Some humans are mortal',\n",
       " 'I will remember that Some birds fly',\n",
       " 'I will remember that All birds fly',\n",
       " 'I heard you say,  Penguins do not fly , could you rephrase that please?',\n",
       " 'I heard you say,  Sparrows fly , could you rephrase that please?',\n",
       " 'I heard you say,  Walruses can weigh 2000 kilograms , could you rephrase that please?',\n",
       " 'I heard you say,  Pieter Flach works at the University of Bristol , could you rephrase that please?',\n",
       " 'I heard you say,  Pieter Flach is a computer scientist , could you rephrase that please?',\n",
       " 'I heard you say,  Pieter Flach is a historian , could you rephrase that please?',\n",
       " 'I heard you say,  Molluscs eat walruses , could you rephrase that please?']"
      ]
     },
     "execution_count": 27,
     "metadata": {},
     "output_type": "execute_result"
    }
   ],
   "source": [
    "pl = Prolog()\n",
    "\n",
    "\n",
    "background = [ \n",
    "    \"All humans are mortal.\",\n",
    "    \"Peter is a human.\",\n",
    "    \"Most birds fly.\",\n",
    "    \"Penguins are birds.\",\n",
    "    \"All penguins are birds.\",\n",
    "    \"All sparrows are birds.\",\n",
    "    \"All walruses can weigh up to 1900 kilograms\",\n",
    "    \"There are two species of walrus - Pacific and Atlantic\",\n",
    "    \"All walruses eat molluscs\",\n",
    "    \"All walruses live in herds\",\n",
    "    \"All walruses have two large tusks\",\n",
    "    \"Pieter Adriaan Flach is a Dutch computer scientist and a Professor of Artificial Intelligence ...at the University of Bristol\"\n",
    "]\n",
    "\n",
    "queries = [\n",
    "    \"Are all humans mortal?\",\n",
    "    \"Is Peter mortal?\",\n",
    "    \"Peter is mortal.\",\n",
    "    \"All humans are mortal.\",\n",
    "    \"Some humans are mortal.\",\n",
    "    \"Some birds fly.\",\n",
    "    \"All birds fly.\",\n",
    "    \"Penguins do not fly.\",\n",
    "    \"Sparrows fly.\",\n",
    "    \"Walruses can weigh 2000 kilograms.\",\n",
    "    \"Pieter Flach works at the University of Bristol.\",\n",
    "    \"Pieter Flach is a computer scientist.\",\n",
    "    \"Pieter Flach is a historian.\",\n",
    "    \"Molluscs eat walruses\"\n",
    "]\n",
    "    \n",
    "\n",
    "#print( meta.standardised_query(pl, \"lions can't be beautiful\") )\n",
    "#print( meta.standardised_query(pl, 'all lions are beautiful') )\n",
    "#print( meta.standardised_query(pl, 'lions are beautiful') )\n",
    "\n",
    "[ meta.standardised_query(pl, b)[0][\"Output\"] for b in background ]\n",
    "[ meta.standardised_query(pl, q)[0][\"Output\"] for q in queries ]"
   ]
  },
  {
   "cell_type": "code",
   "execution_count": null,
   "metadata": {},
   "outputs": [],
   "source": [
    "# on launch\n",
    "reset_grammar()\n",
    "\n",
    "text = input()\n",
    "standardised_query(pl, text)\n",
    "\n",
    "#on quit\n",
    "reset_grammar()"
   ]
  },
  {
   "cell_type": "code",
   "execution_count": null,
   "metadata": {},
   "outputs": [],
   "source": [
    "pl = Prolog()\n",
    "pl.consult(PROLEXA_PATH + \"prolexa.pl\")"
   ]
  },
  {
   "cell_type": "code",
   "execution_count": null,
   "metadata": {},
   "outputs": [],
   "source": [
    "wnl = WordNetLemmatizer()\n",
    "for word in \"doesn't think about girls\".split(\" \") :\n",
    "    print( wnl.lemmatize(word) )\n",
    "    \n",
    "_, _, tags = tagger.tag(\"doesn't think lions are mortals\")\n",
    "standardise_tags(tags)\n",
    "\n",
    "contractions.fix(\"doesn't think about girls\")"
   ]
  },
  {
   "cell_type": "code",
   "execution_count": null,
   "metadata": {},
   "outputs": [],
   "source": []
  },
  {
   "cell_type": "code",
   "execution_count": null,
   "metadata": {},
   "outputs": [],
   "source": []
  },
  {
   "cell_type": "code",
   "execution_count": null,
   "metadata": {},
   "outputs": [],
   "source": []
  },
  {
   "cell_type": "code",
   "execution_count": null,
   "metadata": {},
   "outputs": [],
   "source": [
    "pl.consult(\"trains.pl\")\n",
    "STATIONS = [ans[\"S\"] for ans in pl.query(\"station(S)\")]\n",
    "STATIONS"
   ]
  },
  {
   "cell_type": "code",
   "execution_count": null,
   "metadata": {},
   "outputs": [],
   "source": []
  },
  {
   "cell_type": "code",
   "execution_count": null,
   "metadata": {},
   "outputs": [],
   "source": [
    "pl.assertz(\"father(michael,john)\")\n",
    "pl.assertz(\"father(michael,gina)\")\n",
    "pl = Prolog()\n",
    "\n",
    "for soln in pl.query(\"father(X,Y)\"):\n",
    "    print(soln[\"X\"], \"is the father of\", soln[\"Y\"])\n",
    "\n",
    "# michael is the father of john\n",
    "# michael is the father of gina\n",
    "\n",
    "childrenOfMichael = pl.query(\"father(michael,X)\")\n",
    "list(childrenOfMichael)"
   ]
  },
  {
   "cell_type": "code",
   "execution_count": null,
   "metadata": {},
   "outputs": [],
   "source": []
  },
  {
   "cell_type": "code",
   "execution_count": null,
   "metadata": {},
   "outputs": [],
   "source": []
  }
 ],
 "metadata": {
  "kernelspec": {
   "display_name": "pyswip_env",
   "language": "python",
   "name": "pyswip_env"
  },
  "language_info": {
   "codemirror_mode": {
    "name": "ipython",
    "version": 3
   },
   "file_extension": ".py",
   "mimetype": "text/x-python",
   "name": "python",
   "nbconvert_exporter": "python",
   "pygments_lexer": "ipython3",
   "version": "3.6.9"
  }
 },
 "nbformat": 4,
 "nbformat_minor": 2
}
